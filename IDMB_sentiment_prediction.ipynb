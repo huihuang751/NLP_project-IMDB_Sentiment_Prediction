{
 "cells": [
  {
   "cell_type": "markdown",
   "id": "d8ed3a41",
   "metadata": {},
   "source": [
    "# Sentiment prediction of IMDB Movie Reviews\n",
    "\n",
    "In this exercise, several classifier models, such as SVM, decision tree, and logistic regression, are applied to predict sentiment of reviews.IMDB dataset having 50K movie reviews for natural language processing or Text analytics. We use a set of 25,000 highly polar movie reviews for training and 25,000 for testing. \n",
    "Click [here](https://ai.stanford.edu/~amaas/data/sentiment/) for more dataset information.\n",
    "\n",
    "## Table of Contents\n",
    "#### [Part 1: Data preparation](#Part-1:-Data-preparation)\n",
    "#### [Part 2: Building models](#Part-2:-Building-models)\n",
    "#### [Part 3: Evaluation - F1 score](#Part-3:-Evaluation)\n",
    "#### [Part 4: Optimization](#Part-4:-Optimization)\n",
    "\t    - GridSearchCV\n",
    "    \t- Stop word\n",
    "        - F1 score\n",
    "#### [Part 5: Conclusion](#Part-5:-Conclusion)\n",
    "---"
   ]
  },
  {
   "cell_type": "markdown",
   "id": "bebaf1e8",
   "metadata": {},
   "source": [
    "# Part 1: Data preparation"
   ]
  },
  {
   "cell_type": "markdown",
   "id": "5d2e0401",
   "metadata": {},
   "source": [
    "### Define class\n",
    "First, we create a class applied to every reviews."
   ]
  },
  {
   "cell_type": "code",
   "execution_count": 1,
   "id": "a6f38f81",
   "metadata": {},
   "outputs": [],
   "source": [
    "class Review:\n",
    "    def __init__(self, index, text, score, sentiment):\n",
    "        self.index = index\n",
    "        self.text = text\n",
    "        self.score = score\n",
    "        self.sentiment = sentiment\n",
    "    def showText(self):\n",
    "        return self.text\n",
    "    def showScore(self):\n",
    "        return self.score\n",
    "    def showSentiment(self):\n",
    "        return self.sentiment"
   ]
  },
  {
   "cell_type": "markdown",
   "id": "b4a637f6",
   "metadata": {},
   "source": [
    "<h3> Building up useful functions</h3>"
   ]
  },
  {
   "cell_type": "code",
   "execution_count": 2,
   "id": "58557da7",
   "metadata": {},
   "outputs": [],
   "source": [
    "import os\n",
    "import glob\n",
    "import random\n",
    "    \n",
    "def mySort(n):\n",
    "    return int(n.split('_')[0])\n",
    "\n",
    "def load_review(path, start, end, sentiment):\n",
    "    reviews = []\n",
    "    filelist = []\n",
    "    os.chdir(path)\n",
    "    for files in glob.glob('*.txt'):\n",
    "        fileName, fileExtension = os.path.splitext(files)\n",
    "        filelist.append(fileName) #filename without extension\n",
    "\n",
    "    filelist.sort(key=mySort)\n",
    "    shrunk_filesList = filelist[start:start+end]\n",
    "\n",
    "    for file in shrunk_filesList:\n",
    "        f = open(path + \"/\" + file + '.txt', 'r')\n",
    "        index = int(file.split('_')[0])\n",
    "        score = int(file.split('_')[1])\n",
    "        text = f.read()\n",
    "        reviews.append(Review(index, text, score, sentiment))\n",
    "        f.close()\n",
    "    return reviews\n",
    "\n",
    "def gen_train_test(dataNum):\n",
    "    train_pos_reviews = load_review(train_pos, 0, dataNum, 'Positive')\n",
    "    train_neg_reviews = load_review(train_neg, 0, dataNum, 'Negative')\n",
    "    test_pos_reviews = load_review(test_pos, 0, dataNum, 'Positive')\n",
    "    test_neg_reviews = load_review(test_neg, 0, dataNum, 'Negative')\n",
    "\n",
    "    train_reviews = train_pos_reviews + train_neg_reviews\n",
    "    test_reviews = test_pos_reviews + test_neg_reviews\n",
    "    \n",
    "    # Shuffle data set\n",
    "    random.shuffle(train_reviews)\n",
    "    random.shuffle(test_reviews)\n",
    "    \n",
    "    return train_reviews, test_reviews"
   ]
  },
  {
   "cell_type": "markdown",
   "id": "f4e590b9",
   "metadata": {},
   "source": [
    "<h3> Loading training and testing data set and split</h3>"
   ]
  },
  {
   "cell_type": "code",
   "execution_count": 28,
   "id": "a38b1b4f",
   "metadata": {},
   "outputs": [],
   "source": [
    "# training and test dataset file path\n",
    "train_pos = '/Users/huanghui/Documents/NTUT/110-1/Big Data Analysis/Homework/Homework/Final project/Code/train/pos'\n",
    "train_neg = '/Users/huanghui/Documents/NTUT/110-1/Big Data Analysis/Homework/Homework/Final project/Code/train/neg'\n",
    "test_pos = '/Users/huanghui/Documents/NTUT/110-1/Big Data Analysis/Homework/Homework/Final project/Code/test/pos'\n",
    "test_neg = '/Users/huanghui/Documents/NTUT/110-1/Big Data Analysis/Homework/Homework/Final project/Code/test/neg'\n",
    "\n",
    "# Generate training set\n",
    "train_reviews, test_reviews = gen_train_test(5000)      # Randomly select 5000 data for each training and testing set\n",
    "\n",
    "train_text = [x.text for x in train_reviews]            # Get training set text list\n",
    "train_sentiment = [x.sentiment for x in train_reviews]  # Get training set sentiment list\n",
    "\n",
    "test_text = [x.text for x in test_reviews]              # Get test set text list\n",
    "test_sentiment = [x.sentiment for x in test_reviews]    # Get test set sentiment list"
   ]
  },
  {
   "cell_type": "markdown",
   "id": "032ade5b",
   "metadata": {},
   "source": [
    "<h3>Bag of word model</h3>\n",
    "\n",
    "In this model, a sentence is represented as the bag (multiset) of its words, disregarding grammar and even word order but keeping multiplicity."
   ]
  },
  {
   "cell_type": "code",
   "execution_count": 29,
   "id": "b327da1d",
   "metadata": {},
   "outputs": [
    {
     "name": "stdout",
     "output_type": "stream",
     "text": [
      "Training data set size : (10000, 50229)\n",
      "Testing data set size : (10000, 50229)\n"
     ]
    }
   ],
   "source": [
    "from sklearn.feature_extraction.text import CountVectorizer\n",
    "\n",
    "vectorizer = CountVectorizer()\n",
    "\n",
    "# transform text list as bag of word vecter\n",
    "train_text_vector= vectorizer.fit_transform(train_text)\n",
    "test_text_vector= vectorizer.transform(test_text)\n",
    "\n",
    "print(f'Training data set size : {train_text_vector.shape}')\n",
    "print(f'Testing data set size : {test_text_vector.shape}')"
   ]
  },
  {
   "cell_type": "markdown",
   "id": "a08dd469",
   "metadata": {},
   "source": [
    "<h1> Part 2: Building up Models"
   ]
  },
  {
   "cell_type": "markdown",
   "id": "78ee35cf",
   "metadata": {},
   "source": [
    "<h3>SVM model</h3>"
   ]
  },
  {
   "cell_type": "code",
   "execution_count": 5,
   "id": "3d4bcd6d",
   "metadata": {},
   "outputs": [
    {
     "name": "stdout",
     "output_type": "stream",
     "text": [
      "CPU times: user 9.85 s, sys: 70.2 ms, total: 9.92 s\n",
      "Wall time: 9.96 s\n"
     ]
    },
    {
     "data": {
      "text/plain": [
       "SVC()"
      ]
     },
     "execution_count": 5,
     "metadata": {},
     "output_type": "execute_result"
    }
   ],
   "source": [
    "%%time\n",
    "from sklearn import svm\n",
    "\n",
    "clf_svm = svm.SVC()\n",
    "clf_svm.fit(train_text_vector,train_sentiment)"
   ]
  },
  {
   "cell_type": "markdown",
   "id": "8e2e2215",
   "metadata": {},
   "source": [
    "<h3>Desicion tree</h3>"
   ]
  },
  {
   "cell_type": "code",
   "execution_count": 6,
   "id": "950005bb",
   "metadata": {
    "scrolled": true
   },
   "outputs": [
    {
     "name": "stdout",
     "output_type": "stream",
     "text": [
      "CPU times: user 1.05 s, sys: 9.7 ms, total: 1.06 s\n",
      "Wall time: 1.08 s\n"
     ]
    },
    {
     "data": {
      "text/plain": [
       "DecisionTreeClassifier(random_state=0)"
      ]
     },
     "execution_count": 6,
     "metadata": {},
     "output_type": "execute_result"
    }
   ],
   "source": [
    "%%time\n",
    "from sklearn.tree import DecisionTreeClassifier\n",
    "\n",
    "clf_dec = DecisionTreeClassifier(random_state=0)\n",
    "clf_dec.fit(train_text_vector,train_sentiment)"
   ]
  },
  {
   "cell_type": "markdown",
   "id": "cfb0a432",
   "metadata": {},
   "source": [
    "<h3>Logistic Regression</h3>"
   ]
  },
  {
   "cell_type": "code",
   "execution_count": 7,
   "id": "fbd706a3",
   "metadata": {},
   "outputs": [
    {
     "name": "stdout",
     "output_type": "stream",
     "text": [
      "CPU times: user 2.16 s, sys: 539 ms, total: 2.7 s\n",
      "Wall time: 416 ms\n"
     ]
    },
    {
     "name": "stderr",
     "output_type": "stream",
     "text": [
      "/opt/anaconda3/lib/python3.8/site-packages/sklearn/linear_model/_logistic.py:763: ConvergenceWarning: lbfgs failed to converge (status=1):\n",
      "STOP: TOTAL NO. of ITERATIONS REACHED LIMIT.\n",
      "\n",
      "Increase the number of iterations (max_iter) or scale the data as shown in:\n",
      "    https://scikit-learn.org/stable/modules/preprocessing.html\n",
      "Please also refer to the documentation for alternative solver options:\n",
      "    https://scikit-learn.org/stable/modules/linear_model.html#logistic-regression\n",
      "  n_iter_i = _check_optimize_result(\n"
     ]
    },
    {
     "data": {
      "text/plain": [
       "LogisticRegression()"
      ]
     },
     "execution_count": 7,
     "metadata": {},
     "output_type": "execute_result"
    }
   ],
   "source": [
    "%%time\n",
    "from sklearn.linear_model import LogisticRegression\n",
    "\n",
    "clf_log = LogisticRegression()\n",
    "clf_log.fit(train_text_vector,train_sentiment)"
   ]
  },
  {
   "cell_type": "markdown",
   "id": "2be1913d",
   "metadata": {},
   "source": [
    "<h1>Part 3: Evaluation</h1>"
   ]
  },
  {
   "cell_type": "code",
   "execution_count": 8,
   "id": "f1948ec4",
   "metadata": {},
   "outputs": [],
   "source": [
    "from sklearn.metrics import f1_score"
   ]
  },
  {
   "cell_type": "code",
   "execution_count": 9,
   "id": "82021683",
   "metadata": {},
   "outputs": [],
   "source": [
    "f1_svm = f1_score(test_sentiment, clf_svm.predict(test_text_vector), average=None, labels = ['Positive', 'Negative'])\n",
    "f1_dec = f1_score(test_sentiment, clf_dec.predict(test_text_vector), average=None, labels = ['Positive', 'Negative'])\n",
    "f1_log = f1_score(test_sentiment, clf_log.predict(test_text_vector), average=None, labels = ['Positive', 'Negative'])"
   ]
  },
  {
   "cell_type": "code",
   "execution_count": 10,
   "id": "6c196bc9",
   "metadata": {},
   "outputs": [
    {
     "name": "stdout",
     "output_type": "stream",
     "text": [
      "SVM:\n",
      "positive: 80.64%, negative: 81.01%, average: 80.82%\n",
      "\n",
      "Decision Tree:\n",
      "positive: 68.87%, negative: 68.38%, average: 68.62%\n",
      "\n",
      "Logistic Regreesion:\n",
      "positive: 82.99%, negative: 84.26%, average: 83.63%\n"
     ]
    }
   ],
   "source": [
    "print('SVM:\\npositive: {:.4}%, negative: {:.4}%, average: {:.4}%\\n'.format(f1_svm[0]*100, f1_svm[1]*100, (f1_svm[0] + f1_svm[1])/2*100))\n",
    "\n",
    "print('Decision Tree:\\npositive: {:.4}%, negative: {:.4}%, average: {:.4}%\\n'.format(f1_dec[0]*100, f1_dec[1]*100, (f1_dec[0] + f1_dec[1])/2*100))\n",
    "\n",
    "print('Logistic Regreesion:\\npositive: {:.4}%, negative: {:.4}%, average: {:.4}%'.format(f1_log[0]*100, f1_log[1]*100, (f1_log[0] + f1_log[1])/2*100))"
   ]
  },
  {
   "cell_type": "markdown",
   "id": "829c6eea",
   "metadata": {},
   "source": [
    "# Part 4: Optimization"
   ]
  },
  {
   "cell_type": "markdown",
   "id": "967a89e0",
   "metadata": {},
   "source": [
    "## 4-1: Import GridSearchCV and plot heat map\n",
    "\n",
    "Exhaustive search over specified parameter values for an estimator. The parameters of the estimator used to apply these methods are optimized by cross-validated grid-search over a parameter grid.\n",
    "Click [here](#https://scikit-learn.org/stable/modules/generated/sklearn.model_selection.GridSearchCV.html) for more detail."
   ]
  },
  {
   "cell_type": "code",
   "execution_count": 12,
   "id": "ebae7f78",
   "metadata": {},
   "outputs": [],
   "source": [
    "from sklearn.model_selection import GridSearchCV\n",
    "import pandas as pd\n",
    "import numpy as np\n",
    "import matplotlib.pyplot as plt\n",
    "from matplotlib.colors import Normalize\n",
    "\n",
    "class MidpointNormalize(Normalize):\n",
    "    def __init__(self, vmin=None, vmax=None, midpoint=None, clip=False):\n",
    "        self.midpoint = midpoint\n",
    "        Normalize.__init__(self, vmin, vmax, clip)\n",
    "\n",
    "    def __call__(self, value, clip=None):\n",
    "        x, y = [self.vmin, self.midpoint, self.vmax], [0, 0.5, 1]\n",
    "        return np.ma.masked_array(np.interp(value, x, y))"
   ]
  },
  {
   "cell_type": "markdown",
   "id": "dd3e45f6",
   "metadata": {},
   "source": [
    "### SVM"
   ]
  },
  {
   "cell_type": "code",
   "execution_count": 13,
   "id": "2168f8e6",
   "metadata": {},
   "outputs": [
    {
     "name": "stdout",
     "output_type": "stream",
     "text": [
      "best parameter: {'C': 0.01, 'kernel': 'linear'}\n"
     ]
    }
   ],
   "source": [
    "# GridSearchCV for SVM\n",
    "C_range = [0.01, 0.1, 1, 5, 10]\n",
    "gamma_range = np.logspace(-9, 3, 13)\n",
    "kernel_list = ['poly', 'linear', 'rbf', 'sigmoid']\n",
    "param_grid = dict(kernel = kernel_list, C=C_range)\n",
    "\n",
    "svc = svm.SVC()\n",
    "clf_svm_grid = GridSearchCV(svc, param_grid=param_grid)\n",
    "clf_svm_grid.fit(train_text_vector,train_sentiment)\n",
    "\n",
    "print(f'best parameter: {clf_svm_grid.best_params_}')"
   ]
  },
  {
   "cell_type": "code",
   "execution_count": 14,
   "id": "d773a4be",
   "metadata": {},
   "outputs": [
    {
     "data": {
      "image/png": "[encoded data removed]",
      "text/plain": [
       "<Figure size 432x432 with 2 Axes>"
      ]
     },
     "metadata": {
      "needs_background": "light"
     },
     "output_type": "display_data"
    }
   ],
   "source": [
    "# Heat map\n",
    "scores = clf_svm_grid.cv_results_[\"mean_test_score\"].reshape(len(C_range), len(kernel_list))\n",
    "plt.figure(figsize=(6, 6))\n",
    "plt.subplots_adjust(left=0.2, right=0.95, bottom=0.15, top=0.95)\n",
    "plt.imshow(\n",
    "    scores,\n",
    "    interpolation=\"nearest\",\n",
    "    cmap=plt.cm.YlOrRd,\n",
    "    norm=MidpointNormalize(vmin=0.6, midpoint=0.92),\n",
    ")\n",
    "plt.xlabel(\"kernel\")\n",
    "plt.ylabel(\"C\")\n",
    "plt.colorbar()\n",
    "plt.xticks(np.arange(len(kernel_list)), kernel_list, rotation=45)\n",
    "plt.yticks(np.arange(len(C_range)), C_range)\n",
    "plt.title(\"Validation accuracy\")\n",
    "plt.show()"
   ]
  },
  {
   "cell_type": "markdown",
   "id": "527c18ce",
   "metadata": {},
   "source": [
    "### Decision Tree"
   ]
  },
  {
   "cell_type": "code",
   "execution_count": 15,
   "id": "7f3a75c1",
   "metadata": {},
   "outputs": [
    {
     "name": "stdout",
     "output_type": "stream",
     "text": [
      "best parameter: {'max_depth': 50, 'min_samples_split': 500}\n"
     ]
    }
   ],
   "source": [
    "# GridSearchCV for Decision Tree\n",
    "max_depth=[1, 5, 10, 50]\n",
    "min_samples_split=[5, 10, 100, 500]\n",
    "parameters = {'max_depth':max_depth,'min_samples_split':min_samples_split}\n",
    "\n",
    "clf_dec_ = DecisionTreeClassifier(random_state=0)\n",
    "clf_dec_grid = GridSearchCV(clf_dec_, parameters)\n",
    "clf_dec_grid.fit(train_text_vector,train_sentiment)\n",
    "\n",
    "print(f'best parameter: {clf_dec_grid.best_params_}')"
   ]
  },
  {
   "cell_type": "code",
   "execution_count": 16,
   "id": "ba7e428e",
   "metadata": {},
   "outputs": [
    {
     "data": {
      "image/png": "[encoded data removed]",
      "text/plain": [
       "<Figure size 576x288 with 2 Axes>"
      ]
     },
     "metadata": {
      "needs_background": "light"
     },
     "output_type": "display_data"
    }
   ],
   "source": [
    "#heat map: max_depth vs min_samples_split\n",
    "scores = clf_dec_grid.cv_results_[\"mean_test_score\"].reshape(len(max_depth), len(min_samples_split))\n",
    "plt.figure(figsize=(8, 4))\n",
    "plt.subplots_adjust(left=0.2, right=0.95, bottom=0.15, top=0.95) #left=0.2, right=0.95, bottom=0.15, top=0.95\n",
    "plt.imshow(\n",
    "    scores,\n",
    "    interpolation=\"nearest\",\n",
    "    cmap=plt.cm.YlOrRd,\n",
    "    norm=MidpointNormalize(vmin=0.1, midpoint=0.92),\n",
    ")\n",
    "plt.xlabel(\"max_depth\")\n",
    "plt.ylabel(\"min_samples_split\")\n",
    "plt.colorbar()\n",
    "plt.xticks(np.arange(len(max_depth)), max_depth, rotation=45)\n",
    "plt.yticks(np.arange(len(min_samples_split)), min_samples_split)\n",
    "plt.title(\"Validation accuracy\")\n",
    "plt.show()"
   ]
  },
  {
   "cell_type": "markdown",
   "id": "46e95473",
   "metadata": {},
   "source": [
    "### Logistic Regression"
   ]
  },
  {
   "cell_type": "code",
   "execution_count": 17,
   "id": "3fbe7f0a",
   "metadata": {},
   "outputs": [
    {
     "name": "stderr",
     "output_type": "stream",
     "text": [
      "/opt/anaconda3/lib/python3.8/site-packages/sklearn/linear_model/_sag.py:328: ConvergenceWarning: The max_iter was reached which means the coef_ did not converge\n",
      "  warnings.warn(\"The max_iter was reached which means \"\n",
      "/opt/anaconda3/lib/python3.8/site-packages/sklearn/linear_model/_sag.py:328: ConvergenceWarning: The max_iter was reached which means the coef_ did not converge\n",
      "  warnings.warn(\"The max_iter was reached which means \"\n",
      "/opt/anaconda3/lib/python3.8/site-packages/sklearn/linear_model/_sag.py:328: ConvergenceWarning: The max_iter was reached which means the coef_ did not converge\n",
      "  warnings.warn(\"The max_iter was reached which means \"\n",
      "/opt/anaconda3/lib/python3.8/site-packages/sklearn/linear_model/_sag.py:328: ConvergenceWarning: The max_iter was reached which means the coef_ did not converge\n",
      "  warnings.warn(\"The max_iter was reached which means \"\n",
      "/opt/anaconda3/lib/python3.8/site-packages/sklearn/linear_model/_sag.py:328: ConvergenceWarning: The max_iter was reached which means the coef_ did not converge\n",
      "  warnings.warn(\"The max_iter was reached which means \"\n",
      "/opt/anaconda3/lib/python3.8/site-packages/sklearn/linear_model/_logistic.py:763: ConvergenceWarning: lbfgs failed to converge (status=1):\n",
      "STOP: TOTAL NO. of ITERATIONS REACHED LIMIT.\n",
      "\n",
      "Increase the number of iterations (max_iter) or scale the data as shown in:\n",
      "    https://scikit-learn.org/stable/modules/preprocessing.html\n",
      "Please also refer to the documentation for alternative solver options:\n",
      "    https://scikit-learn.org/stable/modules/linear_model.html#logistic-regression\n",
      "  n_iter_i = _check_optimize_result(\n",
      "/opt/anaconda3/lib/python3.8/site-packages/sklearn/linear_model/_logistic.py:763: ConvergenceWarning: lbfgs failed to converge (status=1):\n",
      "STOP: TOTAL NO. of ITERATIONS REACHED LIMIT.\n",
      "\n",
      "Increase the number of iterations (max_iter) or scale the data as shown in:\n",
      "    https://scikit-learn.org/stable/modules/preprocessing.html\n",
      "Please also refer to the documentation for alternative solver options:\n",
      "    https://scikit-learn.org/stable/modules/linear_model.html#logistic-regression\n",
      "  n_iter_i = _check_optimize_result(\n",
      "/opt/anaconda3/lib/python3.8/site-packages/sklearn/linear_model/_logistic.py:763: ConvergenceWarning: lbfgs failed to converge (status=1):\n",
      "STOP: TOTAL NO. of ITERATIONS REACHED LIMIT.\n",
      "\n",
      "Increase the number of iterations (max_iter) or scale the data as shown in:\n",
      "    https://scikit-learn.org/stable/modules/preprocessing.html\n",
      "Please also refer to the documentation for alternative solver options:\n",
      "    https://scikit-learn.org/stable/modules/linear_model.html#logistic-regression\n",
      "  n_iter_i = _check_optimize_result(\n",
      "/opt/anaconda3/lib/python3.8/site-packages/sklearn/linear_model/_logistic.py:763: ConvergenceWarning: lbfgs failed to converge (status=1):\n",
      "STOP: TOTAL NO. of ITERATIONS REACHED LIMIT.\n",
      "\n",
      "Increase the number of iterations (max_iter) or scale the data as shown in:\n",
      "    https://scikit-learn.org/stable/modules/preprocessing.html\n",
      "Please also refer to the documentation for alternative solver options:\n",
      "    https://scikit-learn.org/stable/modules/linear_model.html#logistic-regression\n",
      "  n_iter_i = _check_optimize_result(\n",
      "/opt/anaconda3/lib/python3.8/site-packages/sklearn/linear_model/_logistic.py:763: ConvergenceWarning: lbfgs failed to converge (status=1):\n",
      "STOP: TOTAL NO. of ITERATIONS REACHED LIMIT.\n",
      "\n",
      "Increase the number of iterations (max_iter) or scale the data as shown in:\n",
      "    https://scikit-learn.org/stable/modules/preprocessing.html\n",
      "Please also refer to the documentation for alternative solver options:\n",
      "    https://scikit-learn.org/stable/modules/linear_model.html#logistic-regression\n",
      "  n_iter_i = _check_optimize_result(\n",
      "/opt/anaconda3/lib/python3.8/site-packages/sklearn/linear_model/_sag.py:328: ConvergenceWarning: The max_iter was reached which means the coef_ did not converge\n",
      "  warnings.warn(\"The max_iter was reached which means \"\n",
      "/opt/anaconda3/lib/python3.8/site-packages/sklearn/linear_model/_sag.py:328: ConvergenceWarning: The max_iter was reached which means the coef_ did not converge\n",
      "  warnings.warn(\"The max_iter was reached which means \"\n",
      "/opt/anaconda3/lib/python3.8/site-packages/sklearn/linear_model/_sag.py:328: ConvergenceWarning: The max_iter was reached which means the coef_ did not converge\n",
      "  warnings.warn(\"The max_iter was reached which means \"\n",
      "/opt/anaconda3/lib/python3.8/site-packages/sklearn/linear_model/_sag.py:328: ConvergenceWarning: The max_iter was reached which means the coef_ did not converge\n",
      "  warnings.warn(\"The max_iter was reached which means \"\n",
      "/opt/anaconda3/lib/python3.8/site-packages/sklearn/linear_model/_sag.py:328: ConvergenceWarning: The max_iter was reached which means the coef_ did not converge\n",
      "  warnings.warn(\"The max_iter was reached which means \"\n",
      "/opt/anaconda3/lib/python3.8/site-packages/sklearn/linear_model/_logistic.py:763: ConvergenceWarning: lbfgs failed to converge (status=1):\n",
      "STOP: TOTAL NO. of ITERATIONS REACHED LIMIT.\n",
      "\n",
      "Increase the number of iterations (max_iter) or scale the data as shown in:\n",
      "    https://scikit-learn.org/stable/modules/preprocessing.html\n",
      "Please also refer to the documentation for alternative solver options:\n",
      "    https://scikit-learn.org/stable/modules/linear_model.html#logistic-regression\n",
      "  n_iter_i = _check_optimize_result(\n",
      "/opt/anaconda3/lib/python3.8/site-packages/sklearn/linear_model/_logistic.py:763: ConvergenceWarning: lbfgs failed to converge (status=1):\n",
      "STOP: TOTAL NO. of ITERATIONS REACHED LIMIT.\n",
      "\n",
      "Increase the number of iterations (max_iter) or scale the data as shown in:\n",
      "    https://scikit-learn.org/stable/modules/preprocessing.html\n",
      "Please also refer to the documentation for alternative solver options:\n",
      "    https://scikit-learn.org/stable/modules/linear_model.html#logistic-regression\n",
      "  n_iter_i = _check_optimize_result(\n",
      "/opt/anaconda3/lib/python3.8/site-packages/sklearn/linear_model/_logistic.py:763: ConvergenceWarning: lbfgs failed to converge (status=1):\n",
      "STOP: TOTAL NO. of ITERATIONS REACHED LIMIT.\n",
      "\n",
      "Increase the number of iterations (max_iter) or scale the data as shown in:\n",
      "    https://scikit-learn.org/stable/modules/preprocessing.html\n",
      "Please also refer to the documentation for alternative solver options:\n",
      "    https://scikit-learn.org/stable/modules/linear_model.html#logistic-regression\n",
      "  n_iter_i = _check_optimize_result(\n",
      "/opt/anaconda3/lib/python3.8/site-packages/sklearn/linear_model/_logistic.py:763: ConvergenceWarning: lbfgs failed to converge (status=1):\n",
      "STOP: TOTAL NO. of ITERATIONS REACHED LIMIT.\n",
      "\n",
      "Increase the number of iterations (max_iter) or scale the data as shown in:\n",
      "    https://scikit-learn.org/stable/modules/preprocessing.html\n",
      "Please also refer to the documentation for alternative solver options:\n",
      "    https://scikit-learn.org/stable/modules/linear_model.html#logistic-regression\n",
      "  n_iter_i = _check_optimize_result(\n",
      "/opt/anaconda3/lib/python3.8/site-packages/sklearn/linear_model/_logistic.py:763: ConvergenceWarning: lbfgs failed to converge (status=1):\n",
      "STOP: TOTAL NO. of ITERATIONS REACHED LIMIT.\n",
      "\n",
      "Increase the number of iterations (max_iter) or scale the data as shown in:\n",
      "    https://scikit-learn.org/stable/modules/preprocessing.html\n",
      "Please also refer to the documentation for alternative solver options:\n",
      "    https://scikit-learn.org/stable/modules/linear_model.html#logistic-regression\n",
      "  n_iter_i = _check_optimize_result(\n",
      "/opt/anaconda3/lib/python3.8/site-packages/sklearn/linear_model/_sag.py:328: ConvergenceWarning: The max_iter was reached which means the coef_ did not converge\n",
      "  warnings.warn(\"The max_iter was reached which means \"\n",
      "/opt/anaconda3/lib/python3.8/site-packages/sklearn/linear_model/_sag.py:328: ConvergenceWarning: The max_iter was reached which means the coef_ did not converge\n",
      "  warnings.warn(\"The max_iter was reached which means \"\n",
      "/opt/anaconda3/lib/python3.8/site-packages/sklearn/linear_model/_sag.py:328: ConvergenceWarning: The max_iter was reached which means the coef_ did not converge\n",
      "  warnings.warn(\"The max_iter was reached which means \"\n",
      "/opt/anaconda3/lib/python3.8/site-packages/sklearn/linear_model/_sag.py:328: ConvergenceWarning: The max_iter was reached which means the coef_ did not converge\n",
      "  warnings.warn(\"The max_iter was reached which means \"\n",
      "/opt/anaconda3/lib/python3.8/site-packages/sklearn/linear_model/_sag.py:328: ConvergenceWarning: The max_iter was reached which means the coef_ did not converge\n",
      "  warnings.warn(\"The max_iter was reached which means \"\n",
      "/opt/anaconda3/lib/python3.8/site-packages/sklearn/linear_model/_logistic.py:763: ConvergenceWarning: lbfgs failed to converge (status=1):\n",
      "STOP: TOTAL NO. of ITERATIONS REACHED LIMIT.\n",
      "\n",
      "Increase the number of iterations (max_iter) or scale the data as shown in:\n",
      "    https://scikit-learn.org/stable/modules/preprocessing.html\n",
      "Please also refer to the documentation for alternative solver options:\n",
      "    https://scikit-learn.org/stable/modules/linear_model.html#logistic-regression\n",
      "  n_iter_i = _check_optimize_result(\n",
      "/opt/anaconda3/lib/python3.8/site-packages/sklearn/linear_model/_logistic.py:763: ConvergenceWarning: lbfgs failed to converge (status=1):\n",
      "STOP: TOTAL NO. of ITERATIONS REACHED LIMIT.\n",
      "\n",
      "Increase the number of iterations (max_iter) or scale the data as shown in:\n",
      "    https://scikit-learn.org/stable/modules/preprocessing.html\n",
      "Please also refer to the documentation for alternative solver options:\n",
      "    https://scikit-learn.org/stable/modules/linear_model.html#logistic-regression\n",
      "  n_iter_i = _check_optimize_result(\n",
      "/opt/anaconda3/lib/python3.8/site-packages/sklearn/linear_model/_logistic.py:763: ConvergenceWarning: lbfgs failed to converge (status=1):\n",
      "STOP: TOTAL NO. of ITERATIONS REACHED LIMIT.\n",
      "\n",
      "Increase the number of iterations (max_iter) or scale the data as shown in:\n",
      "    https://scikit-learn.org/stable/modules/preprocessing.html\n",
      "Please also refer to the documentation for alternative solver options:\n",
      "    https://scikit-learn.org/stable/modules/linear_model.html#logistic-regression\n",
      "  n_iter_i = _check_optimize_result(\n",
      "/opt/anaconda3/lib/python3.8/site-packages/sklearn/linear_model/_logistic.py:763: ConvergenceWarning: lbfgs failed to converge (status=1):\n",
      "STOP: TOTAL NO. of ITERATIONS REACHED LIMIT.\n",
      "\n",
      "Increase the number of iterations (max_iter) or scale the data as shown in:\n",
      "    https://scikit-learn.org/stable/modules/preprocessing.html\n",
      "Please also refer to the documentation for alternative solver options:\n",
      "    https://scikit-learn.org/stable/modules/linear_model.html#logistic-regression\n",
      "  n_iter_i = _check_optimize_result(\n",
      "/opt/anaconda3/lib/python3.8/site-packages/sklearn/linear_model/_logistic.py:763: ConvergenceWarning: lbfgs failed to converge (status=1):\n",
      "STOP: TOTAL NO. of ITERATIONS REACHED LIMIT.\n",
      "\n",
      "Increase the number of iterations (max_iter) or scale the data as shown in:\n",
      "    https://scikit-learn.org/stable/modules/preprocessing.html\n",
      "Please also refer to the documentation for alternative solver options:\n",
      "    https://scikit-learn.org/stable/modules/linear_model.html#logistic-regression\n",
      "  n_iter_i = _check_optimize_result(\n",
      "/opt/anaconda3/lib/python3.8/site-packages/sklearn/linear_model/_sag.py:328: ConvergenceWarning: The max_iter was reached which means the coef_ did not converge\n",
      "  warnings.warn(\"The max_iter was reached which means \"\n",
      "/opt/anaconda3/lib/python3.8/site-packages/sklearn/linear_model/_sag.py:328: ConvergenceWarning: The max_iter was reached which means the coef_ did not converge\n",
      "  warnings.warn(\"The max_iter was reached which means \"\n",
      "/opt/anaconda3/lib/python3.8/site-packages/sklearn/linear_model/_sag.py:328: ConvergenceWarning: The max_iter was reached which means the coef_ did not converge\n",
      "  warnings.warn(\"The max_iter was reached which means \"\n",
      "/opt/anaconda3/lib/python3.8/site-packages/sklearn/linear_model/_sag.py:328: ConvergenceWarning: The max_iter was reached which means the coef_ did not converge\n",
      "  warnings.warn(\"The max_iter was reached which means \"\n",
      "/opt/anaconda3/lib/python3.8/site-packages/sklearn/linear_model/_sag.py:328: ConvergenceWarning: The max_iter was reached which means the coef_ did not converge\n",
      "  warnings.warn(\"The max_iter was reached which means \"\n",
      "/opt/anaconda3/lib/python3.8/site-packages/sklearn/linear_model/_logistic.py:763: ConvergenceWarning: lbfgs failed to converge (status=1):\n",
      "STOP: TOTAL NO. of ITERATIONS REACHED LIMIT.\n",
      "\n",
      "Increase the number of iterations (max_iter) or scale the data as shown in:\n",
      "    https://scikit-learn.org/stable/modules/preprocessing.html\n",
      "Please also refer to the documentation for alternative solver options:\n",
      "    https://scikit-learn.org/stable/modules/linear_model.html#logistic-regression\n",
      "  n_iter_i = _check_optimize_result(\n",
      "/opt/anaconda3/lib/python3.8/site-packages/sklearn/linear_model/_logistic.py:763: ConvergenceWarning: lbfgs failed to converge (status=1):\n",
      "STOP: TOTAL NO. of ITERATIONS REACHED LIMIT.\n",
      "\n",
      "Increase the number of iterations (max_iter) or scale the data as shown in:\n",
      "    https://scikit-learn.org/stable/modules/preprocessing.html\n",
      "Please also refer to the documentation for alternative solver options:\n",
      "    https://scikit-learn.org/stable/modules/linear_model.html#logistic-regression\n",
      "  n_iter_i = _check_optimize_result(\n",
      "/opt/anaconda3/lib/python3.8/site-packages/sklearn/linear_model/_logistic.py:763: ConvergenceWarning: lbfgs failed to converge (status=1):\n",
      "STOP: TOTAL NO. of ITERATIONS REACHED LIMIT.\n",
      "\n",
      "Increase the number of iterations (max_iter) or scale the data as shown in:\n",
      "    https://scikit-learn.org/stable/modules/preprocessing.html\n",
      "Please also refer to the documentation for alternative solver options:\n",
      "    https://scikit-learn.org/stable/modules/linear_model.html#logistic-regression\n",
      "  n_iter_i = _check_optimize_result(\n",
      "/opt/anaconda3/lib/python3.8/site-packages/sklearn/linear_model/_logistic.py:763: ConvergenceWarning: lbfgs failed to converge (status=1):\n",
      "STOP: TOTAL NO. of ITERATIONS REACHED LIMIT.\n",
      "\n",
      "Increase the number of iterations (max_iter) or scale the data as shown in:\n",
      "    https://scikit-learn.org/stable/modules/preprocessing.html\n",
      "Please also refer to the documentation for alternative solver options:\n",
      "    https://scikit-learn.org/stable/modules/linear_model.html#logistic-regression\n",
      "  n_iter_i = _check_optimize_result(\n",
      "/opt/anaconda3/lib/python3.8/site-packages/sklearn/linear_model/_logistic.py:763: ConvergenceWarning: lbfgs failed to converge (status=1):\n",
      "STOP: TOTAL NO. of ITERATIONS REACHED LIMIT.\n",
      "\n",
      "Increase the number of iterations (max_iter) or scale the data as shown in:\n",
      "    https://scikit-learn.org/stable/modules/preprocessing.html\n",
      "Please also refer to the documentation for alternative solver options:\n",
      "    https://scikit-learn.org/stable/modules/linear_model.html#logistic-regression\n",
      "  n_iter_i = _check_optimize_result(\n",
      "/opt/anaconda3/lib/python3.8/site-packages/sklearn/linear_model/_sag.py:328: ConvergenceWarning: The max_iter was reached which means the coef_ did not converge\n",
      "  warnings.warn(\"The max_iter was reached which means \"\n",
      "/opt/anaconda3/lib/python3.8/site-packages/sklearn/linear_model/_sag.py:328: ConvergenceWarning: The max_iter was reached which means the coef_ did not converge\n",
      "  warnings.warn(\"The max_iter was reached which means \"\n",
      "/opt/anaconda3/lib/python3.8/site-packages/sklearn/linear_model/_sag.py:328: ConvergenceWarning: The max_iter was reached which means the coef_ did not converge\n",
      "  warnings.warn(\"The max_iter was reached which means \"\n",
      "/opt/anaconda3/lib/python3.8/site-packages/sklearn/linear_model/_sag.py:328: ConvergenceWarning: The max_iter was reached which means the coef_ did not converge\n",
      "  warnings.warn(\"The max_iter was reached which means \"\n",
      "/opt/anaconda3/lib/python3.8/site-packages/sklearn/linear_model/_sag.py:328: ConvergenceWarning: The max_iter was reached which means the coef_ did not converge\n",
      "  warnings.warn(\"The max_iter was reached which means \"\n"
     ]
    },
    {
     "name": "stdout",
     "output_type": "stream",
     "text": [
      "best parameter: {'C': 0.1, 'solver': 'lbfgs'}\n"
     ]
    },
    {
     "name": "stderr",
     "output_type": "stream",
     "text": [
      "/opt/anaconda3/lib/python3.8/site-packages/sklearn/linear_model/_logistic.py:763: ConvergenceWarning: lbfgs failed to converge (status=1):\n",
      "STOP: TOTAL NO. of ITERATIONS REACHED LIMIT.\n",
      "\n",
      "Increase the number of iterations (max_iter) or scale the data as shown in:\n",
      "    https://scikit-learn.org/stable/modules/preprocessing.html\n",
      "Please also refer to the documentation for alternative solver options:\n",
      "    https://scikit-learn.org/stable/modules/linear_model.html#logistic-regression\n",
      "  n_iter_i = _check_optimize_result(\n"
     ]
    }
   ],
   "source": [
    "# GridSearchCV for Logistic regression\n",
    "penalty_list = ['l2', 'l1']\n",
    "solver_list = ['lbfgs', 'newton-cg', 'sag']\n",
    "C_range = [0.01, 0.1, 1, 5, 10]\n",
    "parameters = {'C':C_range, 'solver' : solver_list}\n",
    "\n",
    "clf_log = LogisticRegression()\n",
    "clf_log_grid = GridSearchCV(clf_log, parameters)\n",
    "clf_log_grid.fit(train_text_vector,train_sentiment)\n",
    "\n",
    "print(f'best parameter: {clf_log_grid.best_params_}')"
   ]
  },
  {
   "cell_type": "code",
   "execution_count": 18,
   "id": "e564d4c4",
   "metadata": {},
   "outputs": [
    {
     "data": {
      "image/png": "[encoded data removed]",
      "text/plain": [
       "<Figure size 576x432 with 2 Axes>"
      ]
     },
     "metadata": {
      "needs_background": "light"
     },
     "output_type": "display_data"
    }
   ],
   "source": [
    "#heat map: penalty_list vs solver_list\n",
    "scores = clf_log_grid.cv_results_[\"mean_test_score\"].reshape(len(C_range), len(solver_list))\n",
    "plt.figure(figsize=(8, 6))\n",
    "plt.subplots_adjust(left=0.2, right=0.95, bottom=0.15, top=0.95)\n",
    "plt.imshow(\n",
    "    scores,\n",
    "    interpolation=\"nearest\",\n",
    "    cmap=plt.cm.gist_rainbow,\n",
    "    norm=MidpointNormalize(vmin=0.8, midpoint=0.92)\n",
    ")\n",
    "plt.xlabel(\"penalty_list\")\n",
    "plt.ylabel(\"solver_list\")\n",
    "plt.colorbar()\n",
    "plt.xticks(np.arange(len(solver_list)), solver_list, rotation=45)\n",
    "plt.yticks(np.arange(len(C_range)), C_range)\n",
    "plt.title(\"Validation accuracy\")\n",
    "plt.show()"
   ]
  },
  {
   "cell_type": "markdown",
   "id": "1c3b5079",
   "metadata": {},
   "source": [
    "## 4-2: Stop word\n",
    "\n",
    "To save storage space and improve search efficiency, certain words are automatically filtered out before or after natural language processing data, and these words or words are called Stop Words.\n",
    "For some search engines, these are some of the most common, short function words, such as the, is, at, which, and on."
   ]
  },
  {
   "cell_type": "code",
   "execution_count": 19,
   "id": "9a2e4a61",
   "metadata": {},
   "outputs": [],
   "source": [
    "import re\n",
    "import nltk\n",
    "\n",
    "def clean_text(text):\n",
    "    text = re.sub(\"[^a-zA-Z]\",\" \",text)\n",
    "    text = text.lower()\n",
    "    text = nltk.word_tokenize(text)\n",
    "    lemma = nltk.WordNetLemmatizer()\n",
    "    text = [ lemma.lemmatize(word) for word in text] \n",
    "    text =\" \".join(text)\n",
    "    return text\n",
    "\n",
    "clean_vectorizer = CountVectorizer(stop_words=\"english\")\n",
    "clean_train_x = [clean_text(text) for text in train_text]\n",
    "clean_test_x = [clean_text(text) for text in test_text]\n",
    "\n",
    "#filter stop words\n",
    "clean_vectorizer = CountVectorizer(stop_words=\"english\")\n",
    "clean_train_x_vec = clean_vectorizer.fit_transform(clean_train_x)\n",
    "clean_test_x_vec = clean_vectorizer.transform(clean_test_x)"
   ]
  },
  {
   "cell_type": "markdown",
   "id": "b16ddc7e",
   "metadata": {},
   "source": [
    "## 4-3: Re-build models"
   ]
  },
  {
   "cell_type": "markdown",
   "id": "a3d1f089",
   "metadata": {},
   "source": [
    "### SVM"
   ]
  },
  {
   "cell_type": "code",
   "execution_count": 20,
   "id": "7bb0f30f",
   "metadata": {
    "scrolled": true
   },
   "outputs": [
    {
     "data": {
      "text/plain": [
       "SVC(C=10, kernel='linear')"
      ]
     },
     "execution_count": 20,
     "metadata": {},
     "output_type": "execute_result"
    }
   ],
   "source": [
    "# Optimization model's parameter\n",
    "clf_svm_opt = svm.SVC(kernel='linear', C = 10)\n",
    "clf_svm_opt.fit(train_text_vector,train_sentiment)\n",
    "\n",
    "# Using stop word data set\n",
    "clf_svm_cln = svm.SVC(kernel='linear', C = 10)\n",
    "clf_svm_cln.fit(clean_train_x_vec,train_sentiment)"
   ]
  },
  {
   "cell_type": "markdown",
   "id": "ba42c538",
   "metadata": {},
   "source": [
    "### Logistic Regression"
   ]
  },
  {
   "cell_type": "code",
   "execution_count": 21,
   "id": "e892fbde",
   "metadata": {},
   "outputs": [
    {
     "name": "stderr",
     "output_type": "stream",
     "text": [
      "/opt/anaconda3/lib/python3.8/site-packages/sklearn/linear_model/_logistic.py:763: ConvergenceWarning: lbfgs failed to converge (status=1):\n",
      "STOP: TOTAL NO. of ITERATIONS REACHED LIMIT.\n",
      "\n",
      "Increase the number of iterations (max_iter) or scale the data as shown in:\n",
      "    https://scikit-learn.org/stable/modules/preprocessing.html\n",
      "Please also refer to the documentation for alternative solver options:\n",
      "    https://scikit-learn.org/stable/modules/linear_model.html#logistic-regression\n",
      "  n_iter_i = _check_optimize_result(\n",
      "/opt/anaconda3/lib/python3.8/site-packages/sklearn/linear_model/_logistic.py:763: ConvergenceWarning: lbfgs failed to converge (status=1):\n",
      "STOP: TOTAL NO. of ITERATIONS REACHED LIMIT.\n",
      "\n",
      "Increase the number of iterations (max_iter) or scale the data as shown in:\n",
      "    https://scikit-learn.org/stable/modules/preprocessing.html\n",
      "Please also refer to the documentation for alternative solver options:\n",
      "    https://scikit-learn.org/stable/modules/linear_model.html#logistic-regression\n",
      "  n_iter_i = _check_optimize_result(\n"
     ]
    },
    {
     "data": {
      "text/plain": [
       "LogisticRegression(C=5)"
      ]
     },
     "execution_count": 21,
     "metadata": {},
     "output_type": "execute_result"
    }
   ],
   "source": [
    "# Optimization model's parameters\n",
    "clf_log_opt = LogisticRegression(solver = 'lbfgs', C = 5)\n",
    "clf_log_opt.fit(train_text_vector,train_sentiment)\n",
    "\n",
    "# Using bad of word data set\n",
    "clf_log_cln = LogisticRegression(solver = 'lbfgs', C = 5)\n",
    "clf_log_cln.fit(clean_train_x_vec,train_sentiment)"
   ]
  },
  {
   "cell_type": "markdown",
   "id": "780840d3",
   "metadata": {},
   "source": [
    "### Decision Tree"
   ]
  },
  {
   "cell_type": "code",
   "execution_count": 22,
   "id": "4a9ca3ab",
   "metadata": {},
   "outputs": [
    {
     "data": {
      "text/plain": [
       "DecisionTreeClassifier(max_depth=50, min_samples_split=500)"
      ]
     },
     "execution_count": 22,
     "metadata": {},
     "output_type": "execute_result"
    }
   ],
   "source": [
    "# Optimization model's parameters\n",
    "clf_dec_opt = DecisionTreeClassifier(max_depth = 50, min_samples_split = 500)\n",
    "clf_dec_opt.fit(train_text_vector,train_sentiment)\n",
    "\n",
    "# Using bad of word data set\n",
    "clf_dec_cln = DecisionTreeClassifier(max_depth = 50, min_samples_split = 500)\n",
    "clf_dec_cln.fit(clean_train_x_vec,train_sentiment)"
   ]
  },
  {
   "cell_type": "markdown",
   "id": "1c31370b",
   "metadata": {},
   "source": [
    "## 4-4: F1 score"
   ]
  },
  {
   "cell_type": "code",
   "execution_count": 23,
   "id": "11a8b786",
   "metadata": {},
   "outputs": [
    {
     "name": "stdout",
     "output_type": "stream",
     "text": [
      "SVM_opt positive: \n",
      "81.6%, negative: 82.81%, average: 82.2%\n",
      "SVM_cln positive: \n",
      "79.97%, negative: 81.19%, average: 80.58%\n"
     ]
    }
   ],
   "source": [
    "f1_svm_opt = f1_score(test_sentiment, clf_svm_opt.predict(test_text_vector), average=None, labels = ['Positive', 'Negative'])\n",
    "f1_svm_cln = f1_score(test_sentiment, clf_svm_cln.predict(clean_test_x_vec), average=None, labels = ['Positive', 'Negative'])\n",
    "print('SVM_opt positive: \\n{:.4}%, negative: {:.4}%, average: {:.4}%'.format(f1_svm_opt[0]*100, f1_svm_opt[1]*100, (f1_svm_opt[0] + f1_svm_opt[1])/2*100))\n",
    "print('SVM_cln positive: \\n{:.4}%, negative: {:.4}%, average: {:.4}%'.format(f1_svm_cln[0]*100, f1_svm_cln[1]*100, (f1_svm_cln[0] + f1_svm_cln[1])/2*100))"
   ]
  },
  {
   "cell_type": "code",
   "execution_count": 24,
   "id": "9a81ac70",
   "metadata": {},
   "outputs": [
    {
     "name": "stdout",
     "output_type": "stream",
     "text": [
      "SVM_opt positive: \n",
      "73.11%, negative: 67.33%, average: 70.22%\n",
      "SVM_cln positive: \n",
      "70.62%, negative: 69.87%, average: 70.25%\n"
     ]
    }
   ],
   "source": [
    "f1_dec_opt = f1_score(test_sentiment, clf_dec_opt.predict(test_text_vector), average=None, labels = ['Positive', 'Negative'])\n",
    "f1_dec_cln = f1_score(test_sentiment, clf_dec_cln.predict(clean_test_x_vec), average=None, labels = ['Positive', 'Negative'])\n",
    "print('SVM_opt positive: \\n{:.4}%, negative: {:.4}%, average: {:.4}%'.format(f1_dec_opt[0]*100, f1_dec_opt[1]*100, (f1_dec_opt[0] + f1_dec_opt[1])/2*100))\n",
    "print('SVM_cln positive: \\n{:.4}%, negative: {:.4}%, average: {:.4}%'.format(f1_dec_cln[0]*100, f1_dec_cln[1]*100, (f1_dec_cln[0] + f1_dec_cln[1])/2*100))"
   ]
  },
  {
   "cell_type": "code",
   "execution_count": 25,
   "id": "79853db9",
   "metadata": {},
   "outputs": [
    {
     "name": "stdout",
     "output_type": "stream",
     "text": [
      "Logistic regreesion opt positive: \n",
      "82.79, negative: 84.06, average: 83.43\n",
      "Logistic regreesion cln positive: \n",
      "81.63, negative: 82.92, average: 82.28\n"
     ]
    }
   ],
   "source": [
    "f1_log_opt = f1_score(test_sentiment, clf_log_opt.predict(test_text_vector), average=None, labels = ['Positive', 'Negative'])\n",
    "f1_log_cln = f1_score(test_sentiment, clf_log_cln.predict(clean_test_x_vec), average=None, labels = ['Positive', 'Negative'])\n",
    "print('Logistic regreesion opt positive: \\n{:.4}, negative: {:.4}, average: {:.4}'.format(f1_log_opt[0]*100, f1_log_opt[1]*100, (f1_log_opt[0] + f1_log_opt[1])/2*100))\n",
    "print('Logistic regreesion cln positive: \\n{:.4}, negative: {:.4}, average: {:.4}'.format(f1_log_cln[0]*100, f1_log_cln[1]*100, (f1_log_cln[0] + f1_log_cln[1])/2*100))"
   ]
  },
  {
   "cell_type": "markdown",
   "id": "98fc0c1b",
   "metadata": {},
   "source": [
    "# Part 5: Comclusion"
   ]
  },
  {
   "cell_type": "code",
   "execution_count": 27,
   "id": "95b67a75",
   "metadata": {},
   "outputs": [
    {
     "data": {
      "image/png": "[encoded data removed]",
      "text/plain": [
       "<Figure size 864x576 with 1 Axes>"
      ]
     },
     "metadata": {
      "needs_background": "light"
     },
     "output_type": "display_data"
    }
   ],
   "source": [
    "import matplotlib.pyplot as plt\n",
    "# f1_dec_opt = [0.666, 0.666]\n",
    "# f1_dec_cln = [0.555, 0.555]\n",
    "\n",
    "labels = ['SVM', 'Decision_Tree', 'Logistic_Regression']\n",
    "Original = [f1_svm, f1_dec, f1_log]\n",
    "Opt = [f1_svm_opt, f1_dec_opt, f1_log_cln]\n",
    "Cln = [f1_svm_cln, f1_dec_cln, f1_log_cln]\n",
    "\n",
    "SVM = [f1_svm, f1_svm_opt, f1_svm_cln]\n",
    "DecisionTree = [f1_dec, f1_dec_opt, f1_dec_cln]\n",
    "LogisticRegression = [f1_log, f1_log_opt, f1_log_cln]\n",
    "\n",
    "# Plot\n",
    "width = 0.35\n",
    "x = np.arange(len(labels))\n",
    "color =  ['green',  'blue',  'orange',  'red']\n",
    "\n",
    "fig, ax = plt.subplots(figsize = (12,8))\n",
    "\n",
    "bar1 = ax.bar(x - width/2, [(f1[0]+f1[1])/2*100 for f1 in Original], width = 0.15, color = color, alpha=0.5)\n",
    "bar2 = ax.bar(x, [(f1[0]+f1[1])/2*100 for f1 in Opt], width = 0.15, color = color, alpha=0.5)\n",
    "bar3 = ax.bar(x + width/2, [(f1[0]+f1[1])/2*100 for f1 in Cln], width = 0.15, color = color, alpha=0.5)\n",
    "\n",
    "multi_labels = ['Original', 'Opt', 'Cln'] * 3\n",
    "group = []\n",
    "for i in x:\n",
    "    group.append(x[i]-width/2)\n",
    "    group.append(x[i])\n",
    "    group.append(x[i]+width/2)\n",
    "    \n",
    "ax.set_ylabel('F1 score (%)', fontsize = 20)\n",
    "ax.set_title('F1 score result', fontdict = {'fontsize':30}, y = 1.02)\n",
    "ax.set_ylim([0, 100])\n",
    "ax.set_xticks(group)\n",
    "ax.set_xticklabels(multi_labels, fontsize = 12)\n",
    "\n",
    "def createLabels(data):\n",
    "    for item in data:\n",
    "        height = item.get_height()\n",
    "        plt.text(\n",
    "            item.get_x()+item.get_width()/2., \n",
    "            height*1.02, \n",
    "            '%.2f' % float(height),\n",
    "            ha = \"center\",\n",
    "            va = \"bottom\",\n",
    "            fontsize = 12, fontweight = 'medium'\n",
    "        )\n",
    "\n",
    "createLabels(bar1)\n",
    "createLabels(bar2)\n",
    "createLabels(bar3)\n",
    "\n",
    "span_range = [[group[i] for i in range(3)], [group[i] for i in range(3,6)], [group[i] for i in range(6,9)]]\n",
    "\n",
    "for index, sub_group in enumerate(labels):\n",
    "    ax.annotate(sub_group\n",
    "                ,xy = (index, 94)\n",
    "                ,xytext = (0,0), textcoords='offset points'\n",
    "                ,va=\"center\", ha=\"center\"\n",
    "                ,color=\"w\", fontsize=15, fontweight='medium'\n",
    "                ,bbox=dict(boxstyle='round', pad=0.3, color=color[index], alpha=0.7))\n",
    "\n",
    "fig.tight_layout()\n",
    "plt.yticks(fontsize=12)\n",
    "plt.show()"
   ]
  },
  {
   "cell_type": "markdown",
   "id": "849e89c1",
   "metadata": {},
   "source": [
    "From this result, we can find that Logistic Regression has higher F1 score (~82%) compared to SVM and decision tree.\n",
    "* Adjusting models' paramters by GridSearchCV, F1 score does not have significant improvement (opt).\n",
    "* Further clean text by using stop word method keeps F1 score (Cln).\n",
    "* We suspect it is resulted from bag-of-words method (One-hot encoding).\n",
    "    * One-hot encoding would cause curse of dimensionality and sparse vectors."
   ]
  }
 ],
 "metadata": {
  "kernelspec": {
   "display_name": "Python 3",
   "language": "python",
   "name": "python3"
  },
  "language_info": {
   "codemirror_mode": {
    "name": "ipython",
    "version": 3
   },
   "file_extension": ".py",
   "mimetype": "text/x-python",
   "name": "python",
   "nbconvert_exporter": "python",
   "pygments_lexer": "ipython3",
   "version": "3.8.8"
  }
 },
 "nbformat": 4,
 "nbformat_minor": 5
}
